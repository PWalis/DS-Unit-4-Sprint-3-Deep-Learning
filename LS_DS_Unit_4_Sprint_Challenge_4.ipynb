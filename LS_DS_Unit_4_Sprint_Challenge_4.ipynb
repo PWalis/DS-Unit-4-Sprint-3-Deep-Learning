{
 "cells": [
  {
   "cell_type": "markdown",
   "metadata": {},
   "source": [
    "<img align=\"left\" src=\"https://lever-client-logos.s3.amazonaws.com/864372b1-534c-480e-acd5-9711f850815c-1524247202159.png\" width=200>\n",
    "<br></br>\n",
    "<br></br>\n",
    "\n",
    "# Major Neural Network Architectures Challenge\n",
    "## *Data Science Unit 4 Sprint 3 Challenge*\n",
    "\n",
    "In this sprint challenge, you'll explore some of the cutting edge of Data Science. This week we studied several famous neural network architectures: \n",
    "recurrent neural networks (RNNs), long short-term memory (LSTMs), convolutional neural networks (CNNs), and Generative Adverserial Networks (GANs). In this sprint challenge, you will revisit these models. Remember, we are testing your knowledge of these architectures not your ability to fit a model with high accuracy. \n",
    "\n",
    "__*Caution:*__  these approaches can be pretty heavy computationally. All problems were designed so that you should be able to achieve results within at most 5-10 minutes of runtime on Colab or a comparable environment. If something is running longer, doublecheck your approach!\n",
    "\n",
    "## Challenge Objectives\n",
    "*You should be able to:*\n",
    "* <a href=\"#p1\">Part 1</a>: Train a RNN classification model\n",
    "* <a href=\"#p2\">Part 2</a>: Utilize a pre-trained CNN for objective detection\n",
    "* <a href=\"#p3\">Part 3</a>: Describe the difference between a discriminator and generator in a GAN\n",
    "* <a href=\"#p4\">Part 4</a>: Describe yourself as a Data Science and elucidate your vision of AI"
   ]
  },
  {
   "cell_type": "markdown",
   "metadata": {
    "colab_type": "text",
    "id": "-5UwGRnJOmD4"
   },
   "source": [
    "<a id=\"p1\"></a>\n",
    "## Part 1 - RNNs\n",
    "\n",
    "Use an RNN to fit a multi-class classification model on reuters news articles to distinguish topics of articles. The data is already encoded properly for use in an RNN model. \n",
    "\n",
    "Your Tasks: \n",
    "- Use Keras to fit a predictive model, classifying news articles into topics. \n",
    "- Report your overall score and accuracy\n",
    "\n",
    "For reference, the [Keras IMDB sentiment classification example](https://github.com/keras-team/keras/blob/master/examples/imdb_lstm.py) will be useful, as well the RNN code we used in class.\n",
    "\n",
    "__*Note:*__  Focus on getting a running model, not on maxing accuracy with extreme data size or epoch numbers. Only revisit and push accuracy if you get everything else done!"
   ]
  },
  {
   "cell_type": "code",
   "execution_count": null,
   "metadata": {},
   "outputs": [],
   "source": [
    "!pip install numpy\n",
    "import numpy as np"
   ]
  },
  {
   "cell_type": "code",
   "execution_count": 1,
   "metadata": {
    "colab": {
     "base_uri": "https://localhost:8080/",
     "height": 1114
    },
    "colab_type": "code",
    "id": "DS-9ksWjoJit",
    "outputId": "0c3512e4-5cd4-4dc6-9cda-baf00c835f59"
   },
   "outputs": [],
   "source": [
    "from tensorflow.keras.datasets import reuters\n",
    "\n",
    "(x_train, y_train), (x_test, y_test) = reuters.load_data(num_words=None,\n",
    "                                                         skip_top=0,\n",
    "                                                         maxlen=None,\n",
    "                                                         test_split=0.2,\n",
    "                                                         seed=723812,\n",
    "                                                         start_char=1,\n",
    "                                                         oov_char=2,\n",
    "                                                         index_from=3)"
   ]
  },
  {
   "cell_type": "code",
   "execution_count": 2,
   "metadata": {
    "colab": {
     "base_uri": "https://localhost:8080/",
     "height": 34
    },
    "colab_type": "code",
    "id": "fLKqFh8DovaN",
    "outputId": "64b0d621-7e74-4181-9116-406e8c518465"
   },
   "outputs": [
    {
     "name": "stdout",
     "output_type": "stream",
     "text": [
      "Downloading data from https://storage.googleapis.com/tensorflow/tf-keras-datasets/reuters_word_index.json\n",
      "557056/550378 [==============================] - 0s 0us/step\n",
      "Iran is encoded as 779 in the data\n",
      "London is encoded as 544 in the data\n",
      "Words are encoded as numbers in our dataset.\n"
     ]
    }
   ],
   "source": [
    "# Demo of encoding\n",
    "\n",
    "word_index = reuters.get_word_index(path=\"reuters_word_index.json\")\n",
    "\n",
    "print(f\"Iran is encoded as {word_index['iran']} in the data\")\n",
    "print(f\"London is encoded as {word_index['london']} in the data\")\n",
    "print(\"Words are encoded as numbers in our dataset.\")"
   ]
  },
  {
   "cell_type": "code",
   "execution_count": 40,
   "metadata": {},
   "outputs": [
    {
     "data": {
      "text/plain": [
       "8982"
      ]
     },
     "execution_count": 40,
     "metadata": {},
     "output_type": "execute_result"
    }
   ],
   "source": [
    "len(y_train)"
   ]
  },
  {
   "cell_type": "code",
   "execution_count": 42,
   "metadata": {},
   "outputs": [
    {
     "name": "stderr",
     "output_type": "stream",
     "text": [
      "C:\\Users\\Patrick\\Anaconda3\\lib\\site-packages\\ipykernel_launcher.py:4: FutureWarning: Method .as_matrix will be removed in a future version. Use .values instead.\n",
      "  after removing the cwd from sys.path.\n"
     ]
    }
   ],
   "source": [
    "import pandas as pd\n",
    "df = pd.DataFrame({'y_train':y_train})\n",
    "one_hot = pd.get_dummies(df['y_train'])\n",
    "y_train_dummies = one_hot.as_matrix()"
   ]
  },
  {
   "cell_type": "code",
   "execution_count": 43,
   "metadata": {},
   "outputs": [
    {
     "name": "stderr",
     "output_type": "stream",
     "text": [
      "C:\\Users\\Patrick\\Anaconda3\\lib\\site-packages\\ipykernel_launcher.py:3: FutureWarning: Method .as_matrix will be removed in a future version. Use .values instead.\n",
      "  This is separate from the ipykernel package so we can avoid doing imports until\n"
     ]
    }
   ],
   "source": [
    "df = pd.DataFrame({'y_test':y_test})\n",
    "one_hot = pd.get_dummies(df['y_test'])\n",
    "y_test_dummies = one_hot.as_matrix()"
   ]
  },
  {
   "cell_type": "code",
   "execution_count": 46,
   "metadata": {},
   "outputs": [],
   "source": [
    "y_train = y_train_dummies\n",
    "y_test = y_test_dummies"
   ]
  },
  {
   "cell_type": "code",
   "execution_count": null,
   "metadata": {
    "colab": {},
    "colab_type": "code",
    "id": "_QVSlFEAqWJM"
   },
   "outputs": [],
   "source": [
    "from __future__ import print_function\n",
    "from keras.preprocessing import sequence\n",
    "from keras.models import Sequential\n",
    "from keras.layers import Dense, Embedding\n",
    "from keras.layers import LSTM\n",
    "from keras.datasets import imdb\n",
    "\n",
    "\n",
    "max_features = 200000\n",
    "# cut texts after this number of words (among top max_features most common words)\n",
    "maxlen = 80\n",
    "batch_size = 32\n",
    "\n",
    "print('Loading data...')\n",
    "# (x_train, y_train), (x_test, y_test) = imdb.load_data(num_words=max_features)\n",
    "print(len(x_train), 'train sequences')\n",
    "print(len(x_test), 'test sequences')\n",
    "\n",
    "print('Pad sequences (samples x time)')\n",
    "x_train = sequence.pad_sequences(x_train, maxlen=maxlen)\n",
    "x_test = sequence.pad_sequences(x_test, maxlen=maxlen)\n",
    "print('x_train shape:', x_train.shape)\n",
    "print('x_test shape:', x_test.shape)\n",
    "\n",
    "print('Build model...')\n",
    "model = Sequential()\n",
    "model.add(Embedding(max_features, 80))\n",
    "model.add(LSTM(80, dropout=0.2, recurrent_dropout=0.2))\n",
    "model.add(Dense(46, activation='softmax'))\n",
    "\n",
    "# try using different optimizers and different optimizer configs\n",
    "model.compile(loss='binary_crossentropy',\n",
    "              optimizer='adam',\n",
    "              metrics=['accuracy'])\n",
    "\n",
    "print('Train...')\n",
    "model.fit(x_train, y_train,\n",
    "          batch_size=batch_size,\n",
    "          epochs=1,\n",
    "          validation_data=(x_test, y_test))\n",
    "score, acc = model.evaluate(x_test, y_test,\n",
    "                            batch_size=batch_size)\n",
    "print('Test score:', score)\n",
    "print('Test accuracy:', acc)"
   ]
  },
  {
   "cell_type": "markdown",
   "metadata": {
    "colab_type": "text",
    "id": "lPn6c0x21gu1"
   },
   "source": [
    "Conclusion - RNN runs, and gives pretty decent improvement over a naive model. To *really* improve the model, more playing with parameters would help. Also - RNN may well not be the best approach here, but it is at least a valid one."
   ]
  },
  {
   "cell_type": "markdown",
   "metadata": {
    "colab_type": "text",
    "id": "yz0LCZd_O4IG"
   },
   "source": [
    "<a id=\"p2\"></a>\n",
    "## Part 2- CNNs\n",
    "\n",
    "### Find the Frog\n",
    "\n",
    "Time to play \"find the frog!\" Use Keras and ResNet50 (pre-trained) to detect which of the following images contain frogs:\n",
    "\n",
    "<img align=\"left\" src=\"https://d3i6fh83elv35t.cloudfront.net/newshour/app/uploads/2017/03/GettyImages-654745934-1024x687.jpg\" width=400>\n"
   ]
  },
  {
   "cell_type": "code",
   "execution_count": null,
   "metadata": {
    "colab": {
     "base_uri": "https://localhost:8080/",
     "height": 245
    },
    "colab_type": "code",
    "id": "whIqEWR236Af",
    "outputId": "7a74e30d-310d-4a3a-9ae4-5bf52d137bda"
   },
   "outputs": [],
   "source": [
    "!pip install google_images_download"
   ]
  },
  {
   "cell_type": "code",
   "execution_count": 60,
   "metadata": {
    "colab": {
     "base_uri": "https://localhost:8080/",
     "height": 332
    },
    "colab_type": "code",
    "id": "EKnnnM8k38sN",
    "outputId": "59f477e9-0b25-4a38-9678-af24e0176535"
   },
   "outputs": [
    {
     "name": "stdout",
     "output_type": "stream",
     "text": [
      "\n",
      "Item no.: 1 --> Item name = animal pond\n",
      "Evaluating...\n",
      "Starting Download...\n",
      "Image URL: https://www.enchantedlearning.com/pgifs/Pondanimals.GIF\n",
      "Completed Image ====> 1.Pondanimals.GIF\n",
      "Image URL: https://i.ytimg.com/vi/NCbu0TND9vE/hqdefault.jpg\n",
      "Completed Image ====> 2.hqdefault.jpg\n",
      "Image URL: https://pklifescience.com/staticfiles/articles/images/PKLS4116_inline.png\n",
      "Completed Image ====> 3.PKLS4116_inline.png\n",
      "Image URL: https://get.pxhere.com/photo/water-animal-pond-wildlife-mammal-fish-eat-fauna-whiskers-vertebrate-otter-mink-marmot-sea-otter-mustelidae-1383482.jpg\n",
      "Completed Image ====> 4.water-animal-pond-wildlife-mammal-fish-eat-fauna-whiskers-vertebrate-otter-mink-marmot-sea-otter-mustelidae-1383482.jpg\n",
      "Image URL: https://pklifescience.com/staticfiles/articles/images/PKLS4116.png\n",
      "Completed Image ====> 5.PKLS4116.png\n",
      "Image URL: https://i.pinimg.com/originals/57/5c/5b/575c5b5c441e27ff04eb50571ee30127.jpg\n",
      "Completed Image ====> 6.575c5b5c441e27ff04eb50571ee30127.jpg\n",
      "Image URL: https://pixnio.com/free-images/fauna-animals/reptiles-and-amphibians/alligators-and-crocodiles-pictures/alligator-animal-on-pond.jpg\n",
      "Completed Image ====> 7.alligator-animal-on-pond.jpg\n",
      "Image URL: https://www.pixoto.com/images-photography/animals/birds/birds-in-a-pond-5986310798966784.jpg\n",
      "Completed Image ====> 8.birds-in-a-pond-5986310798966784.jpg\n",
      "Image URL: https://cdn.pixabay.com/photo/2017/04/19/20/37/frog-2243543_960_720.jpg\n",
      "Completed Image ====> 9.frog-2243543_960_720.jpg\n",
      "Image URL: https://cdn.pixabay.com/photo/2017/08/17/06/32/goose-2650209_960_720.jpg\n",
      "Completed Image ====> 10.goose-2650209_960_720.jpg\n",
      "Image URL: https://img-aws.ehowcdn.com/750x428p/photos.demandstudios.com/getty/article/178/192/87827228_XS.jpg\n",
      "Completed Image ====> 11.87827228_XS.jpg\n",
      "Image URL: https://www.nwf.org/-/media/NEW-WEBSITE/Programs/Garden-for-Wildlife/amphibian_bronze-frog_Julia-Bartosh_400x267.ashx\n",
      "Invalid or missing image format. Skipping...\n",
      "Image URL: https://pondinformer.com/wp-content/uploads/2018/04/pond-fish-that-eat-algae.jpg\n",
      "Completed Image ====> 12.pond-fish-that-eat-algae.jpg\n",
      "Image URL: https://i.pinimg.com/736x/dd/69/c9/dd69c94f00312b5c487bf1018f38be58--vocabulary-cards-picture-cards.jpg\n",
      "Completed Image ====> 13.dd69c94f00312b5c487bf1018f38be58--vocabulary-cards-picture-cards.jpg\n",
      "Image URL: https://www.scienceabc.com/wp-content/uploads/2016/10/Fishes-in-lake.jpg\n",
      "Completed Image ====> 14.Fishes-in-lake.jpg\n",
      "Image URL: https://faaspets.org/wp-content/uploads/HF-2019.jpg\n",
      "Completed Image ====> 15.HF-2019.jpg\n",
      "Image URL: https://sterlingshelter-animalshelterinc.netdna-ssl.com/wp-content/uploads/2019/05/koi2.jpg\n",
      "Completed Image ====> 16.koi2.jpg\n",
      "Image URL: https://www.pondtrademag.com/wp-content/uploads/1801wildpond001b.jpg\n",
      "Completed Image ====> 17.1801wildpond001b.jpg\n",
      "Image URL: https://static.wixstatic.com/media/06af3a_f89e7596d5254e6e8896f054e8c4ea7b~mv2_d_1650_1275_s_2.jpg/v1/fill/w_500,h_500/06af3a_f89e7596d5254e6e8896f054e8c4ea7b~mv2_d_1650_1275_s_2.jpg\n",
      "Completed Image ====> 18.06af3a_f89e7596d5254e6e8896f054e8c4ea7b~mv2_d_1650_1275_s_2.jpg\n",
      "Image URL: https://www.denverpost.com/wp-content/uploads/2019/06/fishfloatingeverywheredead1.jpg?w=620\n",
      "Completed Image ====> 19.fishfloatingeverywheredead1.jpg\n",
      "Image URL: https://www.wikihow.com/images/b/b3/Clean-a-Koi-Pond-Step-15.jpg\n",
      "Completed Image ====> 20.Clean-a-Koi-Pond-Step-15.jpg\n",
      "\n",
      "Errors: 1\n",
      "\n"
     ]
    }
   ],
   "source": [
    "from google_images_download import google_images_download\n",
    "\n",
    "response = google_images_download.googleimagesdownload()\n",
    "arguments = {\"keywords\": \"animal pond\", \"limit\":20, \"print_urls\": True}\n",
    "absolute_image_paths = response.download(arguments)"
   ]
  },
  {
   "cell_type": "markdown",
   "metadata": {
    "colab_type": "text",
    "id": "si5YfNqS50QU"
   },
   "source": [
    "At time of writing at least a few do, but since the Internet changes - it is possible your 5 won't. You can easily verify yourself, and (once you have working code) increase the number of images you pull to be more sure of getting a frog. Your goal is to validly run ResNet50 on the input images - don't worry about tuning or improving the model.\n",
    "\n",
    "*Hint* - ResNet 50 doesn't just return \"frog\". The three labels it has for frogs are: `bullfrog, tree frog, tailed frog`\n",
    "\n",
    "*Stretch goal* - also check for fish."
   ]
  },
  {
   "cell_type": "code",
   "execution_count": 61,
   "metadata": {},
   "outputs": [
    {
     "data": {
      "text/plain": [
       "({'animal pond': ['C:\\\\Users\\\\Patrick\\\\Desktop\\\\Repos\\\\DS-Unit-4-Sprint-3-Deep-Learning\\\\downloads\\\\animal pond\\\\1.Pondanimals.GIF',\n",
       "   'C:\\\\Users\\\\Patrick\\\\Desktop\\\\Repos\\\\DS-Unit-4-Sprint-3-Deep-Learning\\\\downloads\\\\animal pond\\\\2.hqdefault.jpg',\n",
       "   'C:\\\\Users\\\\Patrick\\\\Desktop\\\\Repos\\\\DS-Unit-4-Sprint-3-Deep-Learning\\\\downloads\\\\animal pond\\\\3.PKLS4116_inline.png',\n",
       "   'C:\\\\Users\\\\Patrick\\\\Desktop\\\\Repos\\\\DS-Unit-4-Sprint-3-Deep-Learning\\\\downloads\\\\animal pond\\\\4.water-animal-pond-wildlife-mammal-fish-eat-fauna-whiskers-vertebrate-otter-mink-marmot-sea-otter-mustelidae-1383482.jpg',\n",
       "   'C:\\\\Users\\\\Patrick\\\\Desktop\\\\Repos\\\\DS-Unit-4-Sprint-3-Deep-Learning\\\\downloads\\\\animal pond\\\\5.PKLS4116.png',\n",
       "   'C:\\\\Users\\\\Patrick\\\\Desktop\\\\Repos\\\\DS-Unit-4-Sprint-3-Deep-Learning\\\\downloads\\\\animal pond\\\\6.575c5b5c441e27ff04eb50571ee30127.jpg',\n",
       "   'C:\\\\Users\\\\Patrick\\\\Desktop\\\\Repos\\\\DS-Unit-4-Sprint-3-Deep-Learning\\\\downloads\\\\animal pond\\\\7.alligator-animal-on-pond.jpg',\n",
       "   'C:\\\\Users\\\\Patrick\\\\Desktop\\\\Repos\\\\DS-Unit-4-Sprint-3-Deep-Learning\\\\downloads\\\\animal pond\\\\8.birds-in-a-pond-5986310798966784.jpg',\n",
       "   'C:\\\\Users\\\\Patrick\\\\Desktop\\\\Repos\\\\DS-Unit-4-Sprint-3-Deep-Learning\\\\downloads\\\\animal pond\\\\9.frog-2243543_960_720.jpg',\n",
       "   'C:\\\\Users\\\\Patrick\\\\Desktop\\\\Repos\\\\DS-Unit-4-Sprint-3-Deep-Learning\\\\downloads\\\\animal pond\\\\10.goose-2650209_960_720.jpg',\n",
       "   'C:\\\\Users\\\\Patrick\\\\Desktop\\\\Repos\\\\DS-Unit-4-Sprint-3-Deep-Learning\\\\downloads\\\\animal pond\\\\11.87827228_XS.jpg',\n",
       "   'C:\\\\Users\\\\Patrick\\\\Desktop\\\\Repos\\\\DS-Unit-4-Sprint-3-Deep-Learning\\\\downloads\\\\animal pond\\\\12.pond-fish-that-eat-algae.jpg',\n",
       "   'C:\\\\Users\\\\Patrick\\\\Desktop\\\\Repos\\\\DS-Unit-4-Sprint-3-Deep-Learning\\\\downloads\\\\animal pond\\\\13.dd69c94f00312b5c487bf1018f38be58--vocabulary-cards-picture-cards.jpg',\n",
       "   'C:\\\\Users\\\\Patrick\\\\Desktop\\\\Repos\\\\DS-Unit-4-Sprint-3-Deep-Learning\\\\downloads\\\\animal pond\\\\14.Fishes-in-lake.jpg',\n",
       "   'C:\\\\Users\\\\Patrick\\\\Desktop\\\\Repos\\\\DS-Unit-4-Sprint-3-Deep-Learning\\\\downloads\\\\animal pond\\\\15.HF-2019.jpg',\n",
       "   'C:\\\\Users\\\\Patrick\\\\Desktop\\\\Repos\\\\DS-Unit-4-Sprint-3-Deep-Learning\\\\downloads\\\\animal pond\\\\16.koi2.jpg',\n",
       "   'C:\\\\Users\\\\Patrick\\\\Desktop\\\\Repos\\\\DS-Unit-4-Sprint-3-Deep-Learning\\\\downloads\\\\animal pond\\\\17.1801wildpond001b.jpg',\n",
       "   'C:\\\\Users\\\\Patrick\\\\Desktop\\\\Repos\\\\DS-Unit-4-Sprint-3-Deep-Learning\\\\downloads\\\\animal pond\\\\18.06af3a_f89e7596d5254e6e8896f054e8c4ea7b~mv2_d_1650_1275_s_2.jpg',\n",
       "   'C:\\\\Users\\\\Patrick\\\\Desktop\\\\Repos\\\\DS-Unit-4-Sprint-3-Deep-Learning\\\\downloads\\\\animal pond\\\\19.fishfloatingeverywheredead1.jpg',\n",
       "   'C:\\\\Users\\\\Patrick\\\\Desktop\\\\Repos\\\\DS-Unit-4-Sprint-3-Deep-Learning\\\\downloads\\\\animal pond\\\\20.Clean-a-Koi-Pond-Step-15.jpg']},\n",
       " 1)"
      ]
     },
     "execution_count": 61,
     "metadata": {},
     "output_type": "execute_result"
    }
   ],
   "source": [
    "absolute_image_paths"
   ]
  },
  {
   "cell_type": "code",
   "execution_count": 62,
   "metadata": {},
   "outputs": [],
   "source": [
    "images = absolute_image_paths[0].get('animal pond')"
   ]
  },
  {
   "cell_type": "code",
   "execution_count": 57,
   "metadata": {},
   "outputs": [],
   "source": [
    "import numpy as np"
   ]
  },
  {
   "cell_type": "code",
   "execution_count": 55,
   "metadata": {
    "colab": {},
    "colab_type": "code",
    "id": "FaT07ddW3nHz"
   },
   "outputs": [],
   "source": [
    "from keras.applications.resnet50 import ResNet50\n",
    "from keras.preprocessing import image\n",
    "from keras.applications.resnet50 import preprocess_input, decode_predictions\n",
    "\n",
    "def process_img_path(img_path):\n",
    "  return image.load_img(img_path, target_size=(224, 224))\n",
    "\n",
    "def img_contains_frog(img):\n",
    "  x = image.img_to_array(img)\n",
    "  x = np.expand_dims(x, axis=0)\n",
    "  x = preprocess_input(x)\n",
    "  model = ResNet50(weights='imagenet')\n",
    "  features = model.predict(x)\n",
    "  results = decode_predictions(features, top=3)[0]\n",
    "  print(results)\n",
    "  for entry in results:\n",
    "    if entry[1] == ('bullfrog', 'tree frog', 'tailed frog'):\n",
    "      return entry[2]\n",
    "  return 0.0"
   ]
  },
  {
   "cell_type": "code",
   "execution_count": 58,
   "metadata": {},
   "outputs": [
    {
     "name": "stderr",
     "output_type": "stream",
     "text": [
      "W0726 09:48:07.558556 12916 deprecation_wrapper.py:119] From C:\\Users\\Patrick\\Anaconda3\\lib\\site-packages\\keras\\backend\\tensorflow_backend.py:1834: The name tf.nn.fused_batch_norm is deprecated. Please use tf.compat.v1.nn.fused_batch_norm instead.\n",
      "\n",
      "W0726 09:48:07.730624 12916 deprecation_wrapper.py:119] From C:\\Users\\Patrick\\Anaconda3\\lib\\site-packages\\keras\\backend\\tensorflow_backend.py:3976: The name tf.nn.max_pool is deprecated. Please use tf.nn.max_pool2d instead.\n",
      "\n"
     ]
    },
    {
     "name": "stdout",
     "output_type": "stream",
     "text": [
      "[('n03598930', 'jigsaw_puzzle', 0.8680317), ('n06359193', 'web_site', 0.06410015), ('n02834397', 'bib', 0.021264354)]\n",
      "[('n01443537', 'goldfish', 0.84959215), ('n01631663', 'eft', 0.06760177), ('n02536864', 'coho', 0.03516347)]\n",
      "[('n04243546', 'slot', 0.87124425), ('n04476259', 'tray', 0.049936365), ('n03908618', 'pencil_box', 0.023072524)]\n",
      "[('n02442845', 'mink', 0.30976573), ('n02363005', 'beaver', 0.2339894), ('n02361337', 'marmot', 0.20796867)]\n",
      "[('n03485794', 'handkerchief', 0.88227314), ('n02834397', 'bib', 0.022680819), ('n03291819', 'envelope', 0.020095201)]\n"
     ]
    }
   ],
   "source": [
    "for i in range(len(images)):\n",
    "    img_contains_frog(process_img_path(images[i]))"
   ]
  },
  {
   "cell_type": "markdown",
   "metadata": {
    "colab_type": "text",
    "id": "XEuhvSu7O5Rf"
   },
   "source": [
    "<a id=\"p3\"></a>\n",
    "## Part 3 - Generative Adverserial Networks (GANS)\n",
    "\n",
    "Describe the difference between a discriminator and generator in a GAN in your own words.\n",
    "\n",
    "A discriminator is the checker, it's job is to not let anything that doesn't look like the target get through. The generator creates data and it wants to be able t fool the discriminator.\n",
    "At the end of training the discriminator doesn't let subpar data through and the generator is making really good looking data to the discriminator."
   ]
  },
  {
   "cell_type": "markdown",
   "metadata": {
    "colab_type": "text",
    "id": "626zYgjkO7Vq"
   },
   "source": [
    "<a id=\"p4\"></a>\n",
    "## Part 4 - More..."
   ]
  },
  {
   "cell_type": "markdown",
   "metadata": {
    "colab_type": "text",
    "id": "__lDWfcUO8oo"
   },
   "source": [
    "Answer the following questions, with a target audience of a fellow Data Scientist:\n",
    "\n",
    "- What do you consider your strongest area, as a Data Scientist?\n",
    " - Feature engineering, and data analysis, I'd like to improve my NN knowledge for the future. \n",
    " \n",
    " \n",
    "- What area of Data Science would you most like to learn more about, and why?\n",
    " - NN, it is a complex topic and it's super interesting. NN's are very powerful and in the future our problems are only going to get more complicated.\n",
    "   \n",
    "   \n",
    "- Where do you think Data Science will be in 5 years?\n",
    " - I'm not sure, I expect AI to get better and all the things that we don't exactly have solid rules for will be fleshed out. GPU's will get better so training will be faster, i'm looking forward to that.\n",
    " \n",
    " \n",
    "- What are the treats posed by AI to our society?\n",
    " - AI has the potential to control what people see online, well it's already happening but it will be worse, and the biggest threat at the moment is that AI will take over jobs \n",
    "   and those people who's jobs have been automated are going to have to do something else. \n",
    "   \n",
    "   \n",
    "- How do you think we can counteract those threats? \n",
    " - Though I'm not sure how to prevent AI from filtering what we see online, making programs for those people how will be out of jobs so that they can transition into a different \n",
    "   sector of work. The best thing would be free education and if needed providing neccesities. \n",
    "   \n",
    "   \n",
    "- Do you think achieving General Artifical Intelligence is ever possible?\n",
    " - Maybe but I think it's more likly that we will for a symbiotic relationship with AI and we all become cyborgs, at that point AGI won't be needed. Everyones processing power will increase\n",
    "   which will be good as a whole for the world. We need to evolve with technology. \n",
    "\n",
    "A few sentences per answer is fine - only elaborate if time allows."
   ]
  },
  {
   "cell_type": "markdown",
   "metadata": {
    "colab_type": "text",
    "id": "_Hoqe3mM_Mtc"
   },
   "source": [
    "## Congratulations! \n",
    "\n",
    "Thank you for your hard work, and congratulations! You've learned a lot, and you should proudly call yourself a Data Scientist.\n"
   ]
  },
  {
   "cell_type": "code",
   "execution_count": 59,
   "metadata": {},
   "outputs": [
    {
     "data": {
      "text/html": [
       "<iframe src=\"https://giphy.com/embed/26xivLqkv86uJzqWk\" width=\"480\" height=\"270\" frameBorder=\"0\" class=\"giphy-embed\" allowFullScreen></iframe><p><a href=\"https://giphy.com/gifs/mumm-champagne-saber-26xivLqkv86uJzqWk\">via GIPHY</a></p>"
      ],
      "text/plain": [
       "<IPython.core.display.HTML object>"
      ]
     },
     "execution_count": 59,
     "metadata": {},
     "output_type": "execute_result"
    }
   ],
   "source": [
    "from IPython.display import HTML\n",
    "\n",
    "HTML(\"\"\"<iframe src=\"https://giphy.com/embed/26xivLqkv86uJzqWk\" width=\"480\" height=\"270\" frameBorder=\"0\" class=\"giphy-embed\" allowFullScreen></iframe><p><a href=\"https://giphy.com/gifs/mumm-champagne-saber-26xivLqkv86uJzqWk\">via GIPHY</a></p>\"\"\")"
   ]
  }
 ],
 "metadata": {
  "accelerator": "GPU",
  "colab": {
   "collapsed_sections": [],
   "name": "LS_DS_Unit_4_Sprint_Challenge_4.ipynb",
   "provenance": [],
   "version": "0.3.2"
  },
  "kernelspec": {
   "display_name": "Python 3",
   "language": "python",
   "name": "python3"
  },
  "language_info": {
   "codemirror_mode": {
    "name": "ipython",
    "version": 3
   },
   "file_extension": ".py",
   "mimetype": "text/x-python",
   "name": "python",
   "nbconvert_exporter": "python",
   "pygments_lexer": "ipython3",
   "version": "3.7.3"
  }
 },
 "nbformat": 4,
 "nbformat_minor": 2
}
